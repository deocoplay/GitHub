{
 "cells": [
  {
   "cell_type": "code",
   "execution_count": 1,
   "id": "96136319-b7a4-4636-8a9a-412e1df16630",
   "metadata": {},
   "outputs": [],
   "source": [
    "import json, os, pprint, time, re\n",
    "from urllib import parse\n",
    "import requests as req\n",
    "from bs4 import BeautifulSoup as bs\n",
    "from fake_useragent import UserAgent\n",
    "ua = UserAgent(cache=True)"
   ]
  },
  {
   "cell_type": "code",
   "execution_count": 8,
   "id": "bd3c656f-1977-4212-bae3-4eea93869f8e",
   "metadata": {},
   "outputs": [],
   "source": [
    "listData = []\n",
    "url = 'https://www.gutenberg.org/browse/languages/zh'\n",
    "headers = {\n",
    "    'user-agent': ua.random\n",
    "}\n",
    "folderPath = 'gutenberg3'\n",
    "if not os.path.exists(folderPath):\n",
    "    os.makedirs(folderPath)"
   ]
  },
  {
   "cell_type": "code",
   "execution_count": 9,
   "id": "ed41542e-3e25-49b4-8eb2-940c64b87ed5",
   "metadata": {},
   "outputs": [],
   "source": [
    "# 取得中文書的主要連結\n",
    "def getMainLinks():\n",
    "    res=req.get(url, headers = headers)\n",
    "    soup=bs(res.text,\"lxml\")\n",
    "    mainLink=soup.select(\"li.pgdbetext a\")\n",
    "    for a in mainLink:\n",
    "        regex=(r\"\\b[\\u2E80-\\u9FFF]+\")  \n",
    "        ch_book=re.match(regex,a.get_text()) # 使用正規表達式,篩選書名是中文的\n",
    "        if ch_book!=None:\n",
    "            listData.append({\n",
    "                \"Book\":a.get_text(),\n",
    "                \"Link\":'https://www.gutenberg.org/'+a['href'],\n",
    "                \"Sub\":[]\n",
    "            })\n",
    "    print(\"getMainLinks()成功\")"
   ]
  },
  {
   "cell_type": "code",
   "execution_count": 10,
   "id": "3c9379e0-b791-422d-be05-28da9fcf5d98",
   "metadata": {},
   "outputs": [],
   "source": [
    "# 取得所有中文書的獨立連結\n",
    "def getSubLinks():\n",
    "    for index, i in enumerate(range(len(listData))):\n",
    "        if index>300:\n",
    "            break\n",
    "        res=req.get(listData[i]['Link'], headers = headers)\n",
    "        soup_=bs(res.text,\"lxml\")\n",
    "        subLink=soup_.select(\"td[content='text/plain; charset=utf-8']>a\")\n",
    "        for a in subLink:\n",
    "            if len(subLink)>0:\n",
    "                listData[i][\"Sub\"].append({\n",
    "                \"SubLink\":'https://www.gutenberg.org/'+a['href']\n",
    "                })\n",
    "            else: continue\n",
    "    print(\"getSubLinks()成功\")"
   ]
  },
  {
   "cell_type": "code",
   "execution_count": 13,
   "id": "c68ce755-8d07-4151-97a8-34405207f0d5",
   "metadata": {
    "tags": []
   },
   "outputs": [],
   "source": [
    "#將中文書內容寫入text檔\n",
    "def writeTxt():\n",
    "    for index, i in enumerate(range(len(listData))):\n",
    "        if index>300:\n",
    "            break\n",
    "        for j in range(len(listData[i][\"Sub\"])):\n",
    "            res= req.get(listData[i][\"Sub\"][j][\"SubLink\"], headers=headers)\n",
    "            res.encoding='utf-8'\n",
    "            soup__=bs(res.text,\"lxml\")\n",
    "            body=soup__.select_one(\"body\")\n",
    "            content=body.get_text()\n",
    "            content=re.findall(r\"[\\u2E80-\\u9FFF]\",content) # 只取內容中文的部分\n",
    "            content=''.join(content)                       # 將re結果的listˋ轉成string\n",
    "            Book=listData[i]['Book']\n",
    "            Book=re.sub(r\"\\s|\\:\", '_',Book)                #將書名中有空格或特殊自元\n",
    "            filename=f\"{Book}.txt\"\n",
    "            if content != None:\n",
    "                with open(f\"{folderPath}/{filename}\",\"w\", encoding=\"utf-8\") as file:\n",
    "                    file.write(content)\n",
    "    print(\"writeTxt()成功\")"
   ]
  },
  {
   "cell_type": "code",
   "execution_count": 14,
   "id": "a27be5c0-71a8-4deb-81e9-0425361ac269",
   "metadata": {
    "tags": []
   },
   "outputs": [
    {
     "name": "stdout",
     "output_type": "stream",
     "text": [
      "getMainLinks()成功\n",
      "getSubLinks()成功\n",
      "writeTxt()成功\n",
      "程式成功\n",
      "總運行時間:1216.2757749557495\n"
     ]
    }
   ],
   "source": [
    "# 主程式\n",
    "if __name__==\"__main__\":\n",
    "    time1=time.time()\n",
    "    getMainLinks()\n",
    "    getSubLinks()\n",
    "    writeTxt()\n",
    "    print(\"程式成功\")\n",
    "    print(f\"總運行時間:{time.time()-time1}\")"
   ]
  }
 ],
 "metadata": {
  "kernelspec": {
   "display_name": "Python 3 (ipykernel)",
   "language": "python",
   "name": "python3"
  },
  "language_info": {
   "codemirror_mode": {
    "name": "ipython",
    "version": 3
   },
   "file_extension": ".py",
   "mimetype": "text/x-python",
   "name": "python",
   "nbconvert_exporter": "python",
   "pygments_lexer": "ipython3",
   "version": "3.9.12"
  }
 },
 "nbformat": 4,
 "nbformat_minor": 5
}
