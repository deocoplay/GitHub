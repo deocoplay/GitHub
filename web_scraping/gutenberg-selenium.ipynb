{
 "cells": [
  {
   "cell_type": "code",
   "execution_count": 65,
   "id": "e56d6fa5-4e2d-4406-825a-d5db310f955d",
   "metadata": {},
   "outputs": [],
   "source": [
    "#匯入套件\n",
    "import re, os, time\n",
    "from selenium.webdriver.chrome.service import Service\n",
    "from selenium import webdriver\n",
    "from time import sleep\n",
    "from selenium.common.exceptions import TimeoutException, NoSuchElementException\n",
    "from selenium.webdriver.support.ui import WebDriverWait          # 面對動態網頁,等待元素出現的工具,通常跟EC搭配\n",
    "from selenium.webdriver.support import expected_conditions as EC # 搭配WebDriverWait,對元素的期待條件,若條件發生,則等待結束,往下一行執行\n",
    "from selenium.webdriver.common.by import By                      # 期待元素出現要透過什麼方式指定,通常搭配EC,WebDriverWait一起使用  \n",
    "from fake_useragent import UserAgent\n",
    "ua = UserAgent(cache=True)"
   ]
  },
  {
   "cell_type": "code",
   "execution_count": 67,
   "id": "f95d079f-45d1-4eb0-a8ca-5aa7e6407f23",
   "metadata": {},
   "outputs": [
    {
     "name": "stdout",
     "output_type": "stream",
     "text": [
      "總執行時間:539.9809744358063\n"
     ]
    }
   ],
   "source": [
    "#設定瀏覽器\n",
    "my_options=webdriver.ChromeOptions()\n",
    "my_options.add_argument(\"--start-maximized\")\n",
    "my_options.add_argument(\"--disanle-popup-blocking\")\n",
    "my_options.add_argument(\"--disable-notifications\")\n",
    "my_options.add_argument(\"--lang=zh-TW\")\n",
    "\n",
    "my_service=Service(executable_path=\"./chromedriver.exe\")\n",
    "driver=webdriver.Chrome(\n",
    "    options= my_options,\n",
    "    service= my_service\n",
    ")\n",
    "url='https://www.gutenberg.org/browse/languages/zh'\n",
    "my_headers = {\n",
    "    'user-agent': ua.random\n",
    "}\n",
    "time01=time.time()\n",
    "driver.get(url)\n",
    "\n",
    "try:\n",
    "    WebDriverWait(driver,10).until(\n",
    "    EC.presence_of_element_located(\n",
    "    (By.CSS_SELECTOR,\"li.pgdbetext>a\")))\n",
    "    \n",
    "except TimeoutException:\n",
    "    print('等待逾時!')\n",
    "\n",
    "listData=[]\n",
    "\n",
    "folderPath = 'gutenberg_selenium'\n",
    "if not os.path.exists(folderPath):\n",
    "    os.makedirs(folderPath)\n",
    "\n",
    "try:\n",
    "    main_Link=driver.find_elements(By.CSS_SELECTOR,\"li.pgdbetext>a\")\n",
    "    for book in main_Link:\n",
    "        regex01=(r\"\\b[\\u2E80-\\u9FFF]+\") \n",
    "        ch_book=re.match(regex01,book.text)\n",
    "        if ch_book!=None:\n",
    "            listData.append(book.text)\n",
    "    # print(listData)\n",
    "except NoSuchElementException:\n",
    "    print(\"找不到元素!\")\n",
    "    \n",
    "\n",
    "for index,i in enumerate(range(len(listData))):\n",
    "    if index>300:\n",
    "        break\n",
    "    try:\n",
    "        driver.find_element(By.LINK_TEXT,listData[i]).click()\n",
    "\n",
    "    except NoSuchElementException:\n",
    "        print(\"找不到元素!\")\n",
    "    \n",
    "    # sleep(2)\n",
    "    \n",
    "    try:\n",
    "        driver.find_element(By.LINK_TEXT,\"Plain Text UTF-8\").click()\n",
    "\n",
    "    except NoSuchElementException:\n",
    "        print(\"找不到元素!\")\n",
    "    \n",
    "    # sleep(2)\n",
    "    content=driver.find_element(By.CSS_SELECTOR,\"pre\")\n",
    "    regex02=r\"[\\u2E80-\\u9FFF]\"\n",
    "    ch_content=re.findall(regex02,content.text)\n",
    "    ch_content=\"\".join(ch_content)\n",
    "    Book=listData[i]\n",
    "    Book=re.sub(r\"\\s|\\:\",\"_\",Book)\n",
    "    if ch_content!=None:\n",
    "        with open(f'{folderPath}/{Book}.txt','w',encoding='utf-8') as file:\n",
    "            file.write(ch_content)\n",
    "    # sleep(2)\n",
    "    driver.get(url)\n",
    "driver.quit()\n",
    "print(f\"總執行時間:{time.time()-time01}\")"
   ]
  },
  {
   "cell_type": "code",
   "execution_count": null,
   "id": "63695012-b089-405d-a5a7-0c51dda3e46f",
   "metadata": {},
   "outputs": [],
   "source": []
  }
 ],
 "metadata": {
  "kernelspec": {
   "display_name": "Python 3 (ipykernel)",
   "language": "python",
   "name": "python3"
  },
  "language_info": {
   "codemirror_mode": {
    "name": "ipython",
    "version": 3
   },
   "file_extension": ".py",
   "mimetype": "text/x-python",
   "name": "python",
   "nbconvert_exporter": "python",
   "pygments_lexer": "ipython3",
   "version": "3.9.12"
  }
 },
 "nbformat": 4,
 "nbformat_minor": 5
}
