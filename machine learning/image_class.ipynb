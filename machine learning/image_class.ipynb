{
 "cells": [
  {
   "cell_type": "code",
   "execution_count": 1,
   "id": "6f7e17ed",
   "metadata": {},
   "outputs": [],
   "source": [
    "import cv2\n",
    "import numpy as np\n",
    "import matplotlib.pyplot as plt\n",
    "import os"
   ]
  },
  {
   "cell_type": "code",
   "execution_count": 2,
   "id": "25e673ec",
   "metadata": {},
   "outputs": [
    {
     "data": {
      "text/plain": [
       "['0-10.bmp',\n",
       " '0-2.bmp',\n",
       " '0-3.bmp',\n",
       " '0-4.bmp',\n",
       " '0-5.bmp',\n",
       " '0-6.bmp',\n",
       " '0-8.bmp',\n",
       " '0-9.bmp',\n",
       " '1-1.bmp',\n",
       " '1-10.bmp',\n",
       " '1-2.bmp',\n",
       " '1-3.bmp',\n",
       " '1-4.bmp',\n",
       " '1-6.bmp',\n",
       " '1-8.bmp',\n",
       " '1-9.bmp',\n",
       " '2-1.bmp',\n",
       " '2-10.bmp',\n",
       " '2-3.bmp',\n",
       " '2-4.bmp',\n",
       " '2-5.bmp',\n",
       " '2-6.bmp',\n",
       " '2-7.bmp',\n",
       " '2-8.bmp',\n",
       " '2-9.bmp',\n",
       " '3-1.bmp',\n",
       " '3-10.bmp',\n",
       " '3-3.bmp',\n",
       " '3-4.bmp',\n",
       " '3-5.bmp',\n",
       " '3-6.bmp',\n",
       " '3-7.bmp',\n",
       " '3-8.bmp',\n",
       " '3-9.bmp',\n",
       " '4-1.bmp',\n",
       " '4-2.bmp',\n",
       " '4-4.bmp',\n",
       " '4-6.bmp',\n",
       " '4-8.bmp',\n",
       " '4-9.bmp',\n",
       " '5-1.bmp',\n",
       " '5-10.bmp',\n",
       " '5-2.bmp',\n",
       " '5-3.bmp',\n",
       " '5-6.bmp',\n",
       " '5-7.bmp',\n",
       " '5-9.bmp',\n",
       " '6-1.bmp',\n",
       " '6-10.bmp',\n",
       " '6-2.bmp',\n",
       " '6-3.bmp',\n",
       " '6-4.bmp',\n",
       " '6-6.bmp',\n",
       " '6-8.bmp',\n",
       " '6-9.bmp',\n",
       " '7-10.bmp',\n",
       " '7-2.bmp',\n",
       " '7-3.bmp',\n",
       " '7-5.bmp',\n",
       " '7-6.bmp',\n",
       " '7-7.bmp',\n",
       " '7-9.bmp',\n",
       " '8-1.bmp',\n",
       " '8-10.bmp',\n",
       " '8-2.bmp',\n",
       " '8-3.bmp',\n",
       " '8-4.bmp',\n",
       " '8-5.bmp',\n",
       " '8-6.bmp',\n",
       " '8-8.bmp',\n",
       " '8-9.bmp',\n",
       " '9-1.bmp',\n",
       " '9-2.bmp',\n",
       " '9-3.bmp',\n",
       " '9-4.bmp',\n",
       " '9-5.bmp',\n",
       " '9-6.bmp',\n",
       " '9-8.bmp',\n",
       " '9-9.bmp',\n",
       " 'img_0-1.bmp',\n",
       " 'img_0-7.bmp',\n",
       " 'img_1-5.bmp',\n",
       " 'img_1-7.bmp',\n",
       " 'img_2-2.bmp',\n",
       " 'img_3-2.bmp',\n",
       " 'img_4-10.bmp',\n",
       " 'img_4-3.bmp',\n",
       " 'img_4-5.bmp',\n",
       " 'img_4-7.bmp',\n",
       " 'img_5-4.bmp',\n",
       " 'img_5-5.bmp',\n",
       " 'img_5-8.bmp',\n",
       " 'img_6-5.bmp',\n",
       " 'img_6-7.bmp',\n",
       " 'img_7-1.bmp',\n",
       " 'img_7-4.bmp',\n",
       " 'img_7-8.bmp',\n",
       " 'img_8-7.bmp',\n",
       " 'img_9-10.bmp',\n",
       " 'img_9-7.bmp']"
      ]
     },
     "execution_count": 2,
     "metadata": {},
     "output_type": "execute_result"
    }
   ],
   "source": [
    "s=\"./image_data/\"\n",
    "files=os.listdir(s)\n",
    "files"
   ]
  },
  {
   "cell_type": "code",
   "execution_count": 3,
   "id": "8729aafc",
   "metadata": {},
   "outputs": [],
   "source": [
    "num=100 #number of sample\n",
    "row=240 #number of row\n",
    "col=240 #number of column\n",
    "images = np.zeros((num,row,col)) "
   ]
  },
  {
   "cell_type": "code",
   "execution_count": 4,
   "id": "2e1b5e93",
   "metadata": {},
   "outputs": [
    {
     "name": "stdout",
     "output_type": "stream",
     "text": [
      "(100, 240, 240)\n"
     ]
    }
   ],
   "source": [
    "n=0\n",
    "for pic in files:\n",
    "    images[n,:,:]=cv2.imread(s+str(pic),0)\n",
    "    n=n+1\n",
    "    \n",
    "print(images.shape)  "
   ]
  },
  {
   "cell_type": "code",
   "execution_count": 5,
   "id": "a3a01317",
   "metadata": {},
   "outputs": [],
   "source": [
    "feature = np.zeros((num,round(row/40),round(col/40))) \n",
    "for ni in range(0,num):\n",
    "    for nr in range(0,row):\n",
    "        for nc in range(0,col):\n",
    "            if images[ni,nr,nc]==0:\n",
    "                feature[ni,int(nr/40),int(nc/40)]+=1\n",
    "\n",
    "dataset = feature[:,:].reshape(-1,round(row/40)*round(col/40)).astype(np.float32) \n"
   ]
  },
  {
   "cell_type": "code",
   "execution_count": 6,
   "id": "ed437fed",
   "metadata": {},
   "outputs": [],
   "source": [
    "import re\n",
    "\n",
    "regex01=r\"[0-9](?=-)\"\n",
    "names=re.findall(regex01,str(files))\n",
    "labels = np.asarray(names)"
   ]
  },
  {
   "cell_type": "code",
   "execution_count": 7,
   "id": "34156806",
   "metadata": {},
   "outputs": [
    {
     "name": "stdout",
     "output_type": "stream",
     "text": [
      "(100, 36)\n",
      "(100,)\n",
      "['0' '0' '0' '0' '0' '0' '0' '0' '1' '1' '1' '1' '1' '1' '1' '1' '2' '2'\n",
      " '2' '2' '2' '2' '2' '2' '2' '3' '3' '3' '3' '3' '3' '3' '3' '3' '4' '4'\n",
      " '4' '4' '4' '4' '5' '5' '5' '5' '5' '5' '5' '6' '6' '6' '6' '6' '6' '6'\n",
      " '6' '7' '7' '7' '7' '7' '7' '7' '8' '8' '8' '8' '8' '8' '8' '8' '8' '9'\n",
      " '9' '9' '9' '9' '9' '9' '9' '0' '0' '1' '1' '2' '3' '4' '4' '4' '4' '5'\n",
      " '5' '5' '6' '6' '7' '7' '7' '8' '9' '9']\n"
     ]
    }
   ],
   "source": [
    "print(dataset.shape)\n",
    "print(labels.shape)\n",
    "print(labels)"
   ]
  },
  {
   "cell_type": "code",
   "execution_count": 8,
   "id": "45a5a1e1",
   "metadata": {},
   "outputs": [
    {
     "name": "stdout",
     "output_type": "stream",
     "text": [
      "(70, 36)\n",
      "(70,)\n",
      "(30, 36)\n",
      "(30,)\n",
      "['2' '3' '4' '8' '4' '9' '3' '1' '0' '5' '6' '9' '9' '6' '7' '8' '5' '7'\n",
      " '0' '0' '3' '6' '8' '7' '0' '5' '8' '6' '5' '0' '8' '1' '3' '9' '2' '1'\n",
      " '5' '1' '7' '3' '7' '7' '2' '2' '0' '8' '5' '8' '2' '4' '6' '4' '1' '8'\n",
      " '9' '1' '3' '2' '8' '4' '7' '1' '3' '9' '2' '5' '7' '3' '0' '3']\n"
     ]
    }
   ],
   "source": [
    "from sklearn import neighbors\n",
    "from sklearn.model_selection import train_test_split\n",
    "from sklearn import preprocessing\n",
    "from sklearn.metrics import accuracy_score, confusion_matrix\n",
    "X_train, X_test, y_train, y_test = train_test_split(dataset, labels, test_size=0.3)\n",
    "print(X_train.shape)\n",
    "print(y_train.shape)\n",
    "\n",
    "print(X_test.shape)\n",
    "print(y_test.shape)\n",
    "print(y_train)"
   ]
  },
  {
   "cell_type": "code",
   "execution_count": 9,
   "id": "fd950da4",
   "metadata": {},
   "outputs": [
    {
     "name": "stdout",
     "output_type": "stream",
     "text": [
      "['6' '0' '9' '6' '8' '4' '7' '2' '1' '5' '6' '9' '6' '3' '7' '4' '0' '2'\n",
      " '9' '4' '4' '5' '1' '5' '4' '2' '9' '1' '0' '6']\n",
      "['6' '0' '7' '5' '8' '4' '7' '2' '1' '5' '6' '9' '5' '3' '7' '4' '0' '2'\n",
      " '9' '4' '4' '3' '1' '5' '1' '2' '7' '1' '0' '6']\n",
      "number of correct sample: 24\n",
      "accuracy: 0.8\n",
      "confusion matrix: [[3 0 0 0 0 0 0 0 0 0]\n",
      " [0 3 0 0 0 0 0 0 0 0]\n",
      " [0 0 3 0 0 0 0 0 0 0]\n",
      " [0 0 0 1 0 0 0 0 0 0]\n",
      " [0 1 0 0 4 0 0 0 0 0]\n",
      " [0 0 0 1 0 2 0 0 0 0]\n",
      " [0 0 0 0 0 2 3 0 0 0]\n",
      " [0 0 0 0 0 0 0 2 0 0]\n",
      " [0 0 0 0 0 0 0 0 1 0]\n",
      " [0 0 0 0 0 0 0 2 0 2]]\n"
     ]
    }
   ],
   "source": [
    "scaler = preprocessing.StandardScaler().fit(X_train)\n",
    "X_train = scaler.transform(X_train)\n",
    "\n",
    "model = neighbors.KNeighborsClassifier(n_neighbors=8)\n",
    "model.fit(X_train, y_train)\n",
    "\n",
    "\n",
    "X_test = scaler.transform(X_test)\n",
    "y_pred = model.predict(X_test)\n",
    "\n",
    "accuracy = accuracy_score(y_test, y_pred)\n",
    "num_correct_samples = accuracy_score(y_test, y_pred, normalize=False)\n",
    "con_matrix = confusion_matrix(y_test, y_pred)\n",
    "\n",
    "print(y_test)\n",
    "print(y_pred)\n",
    "print('number of correct sample: {}'.format(num_correct_samples))\n",
    "print('accuracy: {}'.format(accuracy))\n",
    "print('confusion matrix: {}'.format(con_matrix))"
   ]
  },
  {
   "cell_type": "code",
   "execution_count": null,
   "id": "d678584f",
   "metadata": {},
   "outputs": [],
   "source": []
  }
 ],
 "metadata": {
  "kernelspec": {
   "display_name": "Python 3 (ipykernel)",
   "language": "python",
   "name": "python3"
  },
  "language_info": {
   "codemirror_mode": {
    "name": "ipython",
    "version": 3
   },
   "file_extension": ".py",
   "mimetype": "text/x-python",
   "name": "python",
   "nbconvert_exporter": "python",
   "pygments_lexer": "ipython3",
   "version": "3.9.15"
  }
 },
 "nbformat": 4,
 "nbformat_minor": 5
}
